{
 "cells": [
  {
   "cell_type": "code",
   "execution_count": 2,
   "id": "81abf0df",
   "metadata": {},
   "outputs": [
    {
     "name": "stdout",
     "output_type": "stream",
     "text": [
      "섭씨온도 :  0 , 화씨온도 :  32.0\n",
      "섭씨온도 :  5 , 화씨온도 :  41.0\n",
      "섭씨온도 :  10 , 화씨온도 :  50.0\n",
      "섭씨온도 :  15 , 화씨온도 :  59.0\n",
      "섭씨온도 :  20 , 화씨온도 :  68.0\n",
      "섭씨온도 :  25 , 화씨온도 :  77.0\n",
      "섭씨온도 :  30 , 화씨온도 :  86.0\n",
      "섭씨온도 :  35 , 화씨온도 :  95.0\n",
      "섭씨온도 :  40 , 화씨온도 :  104.0\n",
      "섭씨온도 :  45 , 화씨온도 :  113.0\n"
     ]
    }
   ],
   "source": [
    "for i in range(0, 50, 5):\n",
    "    F = (9 / 5) * i + 32\n",
    "    print('섭씨온도 : ', i, ', 화씨온도 : ', F)\n",
    "    \n"
   ]
  },
  {
   "cell_type": "code",
   "execution_count": 3,
   "id": "079947d9",
   "metadata": {},
   "outputs": [
    {
     "name": "stdout",
     "output_type": "stream",
     "text": [
      "2 3\n"
     ]
    }
   ],
   "source": [
    "a = 2 * 2 // 2\n",
    "b = 3 // 2 * 3\n",
    "print (a, b)"
   ]
  },
  {
   "cell_type": "code",
   "execution_count": 5,
   "id": "3a6cf194",
   "metadata": {},
   "outputs": [
    {
     "name": "stdout",
     "output_type": "stream",
     "text": [
      "233168\n"
     ]
    }
   ],
   "source": [
    "sum = 0\n",
    "sum1 = 0\n",
    "sum2 = 0\n",
    "sum3 = 0\n",
    "\n",
    "for i in range(1000):\n",
    "    if i % 3 == 0:\n",
    "       sum1 += i\n",
    "    if i % 5 == 0:\n",
    "        sum2 += i\n",
    "    if i % 15 == 0:\n",
    "        sum3 += i\n",
    "\n",
    "sum = sum1 + sum2 - sum3\n",
    "print(sum)"
   ]
  }
 ],
 "metadata": {
  "kernelspec": {
   "display_name": "Python 3 (ipykernel)",
   "language": "python",
   "name": "python3"
  },
  "language_info": {
   "codemirror_mode": {
    "name": "ipython",
    "version": 3
   },
   "file_extension": ".py",
   "mimetype": "text/x-python",
   "name": "python",
   "nbconvert_exporter": "python",
   "pygments_lexer": "ipython3",
   "version": "3.9.12"
  }
 },
 "nbformat": 4,
 "nbformat_minor": 5
}
