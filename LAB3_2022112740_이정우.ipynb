{
 "cells": [
  {
   "cell_type": "code",
   "execution_count": 2,
   "id": "49e4f2aa",
   "metadata": {},
   "outputs": [
    {
     "name": "stdout",
     "output_type": "stream",
     "text": [
      "game_score = 1300\n",
      "당신은 고수입니다\n"
     ]
    }
   ],
   "source": [
    "game_score = int(input('game_score = '))\n",
    "\n",
    "if game_score >= 1000:\n",
    "    print('당신은 고수입니다')"
   ]
  },
  {
   "cell_type": "code",
   "execution_count": 7,
   "id": "2698edbd",
   "metadata": {},
   "outputs": [],
   "source": [
    "num_a = 100\n",
    "num_b = 200\n",
    "\n",
    "if num_a == num_b:\n",
    "    print('두 값이 일치합니다.')"
   ]
  },
  {
   "cell_type": "code",
   "execution_count": 5,
   "id": "d729848f",
   "metadata": {},
   "outputs": [
    {
     "name": "stdout",
     "output_type": "stream",
     "text": [
      "두 값이 일치합니다.\n"
     ]
    }
   ],
   "source": [
    "num_a = 300\n",
    "num_b = 300\n",
    "\n",
    "if num_a == num_b:\n",
    "    print('두 값이 일치합니다.')"
   ]
  },
  {
   "cell_type": "code",
   "execution_count": 8,
   "id": "2ac7a0ef",
   "metadata": {},
   "outputs": [
    {
     "name": "stdout",
     "output_type": "stream",
     "text": [
      "정수를 입력하세요 : 50\n",
      "n =  50\n",
      "50 은(는) 짝수입니다.\n"
     ]
    }
   ],
   "source": [
    "n = int(input('정수를 입력하세요 : '))\n",
    "print('n = ', n)\n",
    "\n",
    "if n % 2 == 0:\n",
    "    print(n, '은(는) 짝수입니다.')\n"
   ]
  },
  {
   "cell_type": "code",
   "execution_count": 9,
   "id": "c2da6df7",
   "metadata": {},
   "outputs": [
    {
     "name": "stdout",
     "output_type": "stream",
     "text": [
      "정수를 입력하세요 : 50\n",
      "x =  50\n",
      "50 은(는) 자연수입니다.\n"
     ]
    }
   ],
   "source": [
    "x = int(input('정수를 입력하세요 : '))\n",
    "print('x = ', x)\n",
    "\n",
    "if x > 0:\n",
    "    print(x, '은(는) 자연수입니다.')"
   ]
  },
  {
   "cell_type": "code",
   "execution_count": 11,
   "id": "e2bcda41",
   "metadata": {},
   "outputs": [
    {
     "name": "stdout",
     "output_type": "stream",
     "text": [
      "게임점수를 입력하시오 : 1300\n",
      "game_score =  1300\n",
      "고수입니다.\n"
     ]
    }
   ],
   "source": [
    "game_score = int(input('게임점수를 입력하시오 : '))\n",
    "print('game_score = ', game_score)\n",
    "\n",
    "if game_score < 1000:\n",
    "    print('입문자입니다.')\n",
    "else:\n",
    "    print('고수입니다.')"
   ]
  },
  {
   "cell_type": "code",
   "execution_count": 13,
   "id": "7a9b2f95",
   "metadata": {},
   "outputs": [
    {
     "name": "stdout",
     "output_type": "stream",
     "text": [
      "한 정수를 입력하시오 : 300\n",
      "다른 정수를 입력하시오 : 300\n",
      "두 값이 일치합니다.\n"
     ]
    }
   ],
   "source": [
    "n = int(input('한 정수를 입력하시오 : '))\n",
    "m = int(input('다른 정수를 입력하시오 : '))\n",
    "\n",
    "if m == n:\n",
    "    print('두 값이 일치합니다.')\n",
    "if m != n:\n",
    "    print('두 값이 일치하지 않습니다.')"
   ]
  },
  {
   "cell_type": "code",
   "execution_count": 15,
   "id": "f8efc9c7",
   "metadata": {},
   "outputs": [
    {
     "name": "stdout",
     "output_type": "stream",
     "text": [
      "당신은 성인인가요(성인이면 1, 미성년이면 0): 1\n",
      "결혼을 하셨나요(기혼이면 1, 미혼이면 0): 1\n",
      "당신은 결혼한 성인입니다.\n"
     ]
    }
   ],
   "source": [
    "a = int(input('당신은 성인인가요(성인이면 1, 미성년이면 0): '))\n",
    "\n",
    "if a == 0:\n",
    "    print('당신은 미성년자입니다.')\n",
    "else:\n",
    "    b = int(input('결혼을 하셨나요(기혼이면 1, 미혼이면 0): '))\n",
    "    if b == 0:\n",
    "        print('당신은 결혼하지 않은 성인입니다.')\n",
    "    else:\n",
    "        print('당신은 결혼한 성인입니다.')\n"
   ]
  },
  {
   "cell_type": "code",
   "execution_count": 16,
   "id": "70f19693",
   "metadata": {},
   "outputs": [
    {
     "name": "stdout",
     "output_type": "stream",
     "text": [
      "TRUE\n"
     ]
    }
   ],
   "source": [
    "num = 2\n",
    "if (num > 1) and (num < 10):\n",
    "    print('TRUE')"
   ]
  },
  {
   "cell_type": "code",
   "execution_count": 19,
   "id": "018004c8",
   "metadata": {},
   "outputs": [
    {
     "name": "stdout",
     "output_type": "stream",
     "text": [
      "청소년입니다.\n"
     ]
    }
   ],
   "source": [
    "age = 12\n",
    "if (age > 10) and (age < 19):\n",
    "    print('청소년입니다.')"
   ]
  },
  {
   "cell_type": "code",
   "execution_count": 21,
   "id": "56d17320",
   "metadata": {},
   "outputs": [
    {
     "name": "stdout",
     "output_type": "stream",
     "text": [
      "자동차의 속도를 입력하세요(단위 : km/h ): 130\n",
      "고속\n"
     ]
    }
   ],
   "source": [
    "v = int(input('자동차의 속도를 입력하세요(단위 : km/h ): '))\n",
    "\n",
    "if v >= 100:\n",
    "    print('고속')\n",
    "elif (v < 100) and (v >= 60):\n",
    "    print('중속')\n",
    "else:\n",
    "    print('저속')"
   ]
  },
  {
   "cell_type": "code",
   "execution_count": 23,
   "id": "45bb6742",
   "metadata": {},
   "outputs": [
    {
     "name": "stdout",
     "output_type": "stream",
     "text": [
      "Hello Python!\n",
      "Hello Python!\n",
      "Hello Python!\n",
      "Hello Python!\n",
      "Hello Python!\n"
     ]
    }
   ],
   "source": [
    "for i in range(5):\n",
    "    print('Hello Python!')"
   ]
  },
  {
   "cell_type": "code",
   "execution_count": 22,
   "id": "2ac21d3b",
   "metadata": {
    "scrolled": true
   },
   "outputs": [
    {
     "name": "stdout",
     "output_type": "stream",
     "text": [
      "0\n",
      "1\n",
      "2\n",
      "3\n",
      "4\n"
     ]
    }
   ],
   "source": [
    "for i in range(5):\n",
    "    print(i)"
   ]
  },
  {
   "cell_type": "code",
   "execution_count": 27,
   "id": "375dd8e0",
   "metadata": {
    "collapsed": true
   },
   "outputs": [
    {
     "data": {
      "text/plain": [
       "[1,\n",
       " 2,\n",
       " 3,\n",
       " 4,\n",
       " 5,\n",
       " 6,\n",
       " 7,\n",
       " 8,\n",
       " 9,\n",
       " 10,\n",
       " 11,\n",
       " 12,\n",
       " 13,\n",
       " 14,\n",
       " 15,\n",
       " 16,\n",
       " 17,\n",
       " 18,\n",
       " 19,\n",
       " 20,\n",
       " 21,\n",
       " 22,\n",
       " 23,\n",
       " 24,\n",
       " 25,\n",
       " 26,\n",
       " 27,\n",
       " 28,\n",
       " 29,\n",
       " 30,\n",
       " 31,\n",
       " 32,\n",
       " 33,\n",
       " 34,\n",
       " 35,\n",
       " 36,\n",
       " 37,\n",
       " 38,\n",
       " 39,\n",
       " 40,\n",
       " 41,\n",
       " 42,\n",
       " 43,\n",
       " 44,\n",
       " 45,\n",
       " 46,\n",
       " 47,\n",
       " 48,\n",
       " 49,\n",
       " 50,\n",
       " 51,\n",
       " 52,\n",
       " 53,\n",
       " 54,\n",
       " 55,\n",
       " 56,\n",
       " 57,\n",
       " 58,\n",
       " 59,\n",
       " 60,\n",
       " 61,\n",
       " 62,\n",
       " 63,\n",
       " 64,\n",
       " 65,\n",
       " 66,\n",
       " 67,\n",
       " 68,\n",
       " 69,\n",
       " 70,\n",
       " 71,\n",
       " 72,\n",
       " 73,\n",
       " 74,\n",
       " 75,\n",
       " 76,\n",
       " 77,\n",
       " 78,\n",
       " 79,\n",
       " 80,\n",
       " 81,\n",
       " 82,\n",
       " 83,\n",
       " 84,\n",
       " 85,\n",
       " 86,\n",
       " 87,\n",
       " 88,\n",
       " 89,\n",
       " 90,\n",
       " 91,\n",
       " 92,\n",
       " 93,\n",
       " 94,\n",
       " 95,\n",
       " 96,\n",
       " 97,\n",
       " 98,\n",
       " 99,\n",
       " 100]"
      ]
     },
     "execution_count": 27,
     "metadata": {},
     "output_type": "execute_result"
    }
   ],
   "source": [
    "list(range(1, 101))\n"
   ]
  },
  {
   "cell_type": "code",
   "execution_count": 28,
   "id": "740d9250",
   "metadata": {
    "collapsed": true
   },
   "outputs": [
    {
     "data": {
      "text/plain": [
       "[2,\n",
       " 4,\n",
       " 6,\n",
       " 8,\n",
       " 10,\n",
       " 12,\n",
       " 14,\n",
       " 16,\n",
       " 18,\n",
       " 20,\n",
       " 22,\n",
       " 24,\n",
       " 26,\n",
       " 28,\n",
       " 30,\n",
       " 32,\n",
       " 34,\n",
       " 36,\n",
       " 38,\n",
       " 40,\n",
       " 42,\n",
       " 44,\n",
       " 46,\n",
       " 48,\n",
       " 50,\n",
       " 52,\n",
       " 54,\n",
       " 56,\n",
       " 58,\n",
       " 60,\n",
       " 62,\n",
       " 64,\n",
       " 66,\n",
       " 68,\n",
       " 70,\n",
       " 72,\n",
       " 74,\n",
       " 76,\n",
       " 78,\n",
       " 80,\n",
       " 82,\n",
       " 84,\n",
       " 86,\n",
       " 88,\n",
       " 90,\n",
       " 92,\n",
       " 94,\n",
       " 96,\n",
       " 98,\n",
       " 100]"
      ]
     },
     "execution_count": 28,
     "metadata": {},
     "output_type": "execute_result"
    }
   ],
   "source": [
    "list(range(2, 101,2))\n"
   ]
  },
  {
   "cell_type": "code",
   "execution_count": 29,
   "id": "a23b8d59",
   "metadata": {
    "collapsed": true
   },
   "outputs": [
    {
     "data": {
      "text/plain": [
       "[1,\n",
       " 3,\n",
       " 5,\n",
       " 7,\n",
       " 9,\n",
       " 11,\n",
       " 13,\n",
       " 15,\n",
       " 17,\n",
       " 19,\n",
       " 21,\n",
       " 23,\n",
       " 25,\n",
       " 27,\n",
       " 29,\n",
       " 31,\n",
       " 33,\n",
       " 35,\n",
       " 37,\n",
       " 39,\n",
       " 41,\n",
       " 43,\n",
       " 45,\n",
       " 47,\n",
       " 49,\n",
       " 51,\n",
       " 53,\n",
       " 55,\n",
       " 57,\n",
       " 59,\n",
       " 61,\n",
       " 63,\n",
       " 65,\n",
       " 67,\n",
       " 69,\n",
       " 71,\n",
       " 73,\n",
       " 75,\n",
       " 77,\n",
       " 79,\n",
       " 81,\n",
       " 83,\n",
       " 85,\n",
       " 87,\n",
       " 89,\n",
       " 91,\n",
       " 93,\n",
       " 95,\n",
       " 97,\n",
       " 99]"
      ]
     },
     "execution_count": 29,
     "metadata": {},
     "output_type": "execute_result"
    }
   ],
   "source": [
    "list(range(1, 101, 2))"
   ]
  },
  {
   "cell_type": "code",
   "execution_count": 30,
   "id": "d6bf4e85",
   "metadata": {
    "collapsed": true
   },
   "outputs": [
    {
     "data": {
      "text/plain": [
       "[-99,\n",
       " -98,\n",
       " -97,\n",
       " -96,\n",
       " -95,\n",
       " -94,\n",
       " -93,\n",
       " -92,\n",
       " -91,\n",
       " -90,\n",
       " -89,\n",
       " -88,\n",
       " -87,\n",
       " -86,\n",
       " -85,\n",
       " -84,\n",
       " -83,\n",
       " -82,\n",
       " -81,\n",
       " -80,\n",
       " -79,\n",
       " -78,\n",
       " -77,\n",
       " -76,\n",
       " -75,\n",
       " -74,\n",
       " -73,\n",
       " -72,\n",
       " -71,\n",
       " -70,\n",
       " -69,\n",
       " -68,\n",
       " -67,\n",
       " -66,\n",
       " -65,\n",
       " -64,\n",
       " -63,\n",
       " -62,\n",
       " -61,\n",
       " -60,\n",
       " -59,\n",
       " -58,\n",
       " -57,\n",
       " -56,\n",
       " -55,\n",
       " -54,\n",
       " -53,\n",
       " -52,\n",
       " -51,\n",
       " -50,\n",
       " -49,\n",
       " -48,\n",
       " -47,\n",
       " -46,\n",
       " -45,\n",
       " -44,\n",
       " -43,\n",
       " -42,\n",
       " -41,\n",
       " -40,\n",
       " -39,\n",
       " -38,\n",
       " -37,\n",
       " -36,\n",
       " -35,\n",
       " -34,\n",
       " -33,\n",
       " -32,\n",
       " -31,\n",
       " -30,\n",
       " -29,\n",
       " -28,\n",
       " -27,\n",
       " -26,\n",
       " -25,\n",
       " -24,\n",
       " -23,\n",
       " -22,\n",
       " -21,\n",
       " -20,\n",
       " -19,\n",
       " -18,\n",
       " -17,\n",
       " -16,\n",
       " -15,\n",
       " -14,\n",
       " -13,\n",
       " -12,\n",
       " -11,\n",
       " -10,\n",
       " -9,\n",
       " -8,\n",
       " -7,\n",
       " -6,\n",
       " -5,\n",
       " -4,\n",
       " -3,\n",
       " -2,\n",
       " -1,\n",
       " 0]"
      ]
     },
     "execution_count": 30,
     "metadata": {},
     "output_type": "execute_result"
    }
   ],
   "source": [
    "list(range(-99, 1))"
   ]
  },
  {
   "cell_type": "code",
   "execution_count": 34,
   "id": "54cb38f1",
   "metadata": {},
   "outputs": [
    {
     "name": "stdout",
     "output_type": "stream",
     "text": [
      "1에서 100까지 정수의 합 :  5050\n",
      "1에서 100까지 짝수의 합 :  2550\n",
      "1에서 100까지 홀수의 합 :  2500\n"
     ]
    }
   ],
   "source": [
    "a = 0\n",
    "b = 0\n",
    "c = 0\n",
    "\n",
    "for i in range(1, 101):\n",
    "    a += i\n",
    "print('1에서 100까지 정수의 합 : ', a)\n",
    "\n",
    "for i in range(0, 101, 2):\n",
    "    b += i\n",
    "print('1에서 100까지 짝수의 합 : ', b)\n",
    "\n",
    "for i in range(1, 101, 2):\n",
    "    c += i\n",
    "print('1에서 100까지 홀수의 합 : ', c)\n",
    "\n"
   ]
  },
  {
   "cell_type": "code",
   "execution_count": 52,
   "id": "ea152def",
   "metadata": {},
   "outputs": [
    {
     "name": "stdout",
     "output_type": "stream",
     "text": [
      "        #\n",
      "       #\n",
      "      #\n",
      "     #\n",
      "    #\n",
      "   #\n",
      "  #\n"
     ]
    }
   ],
   "source": [
    "n = 7\n",
    "st = '        '\n",
    "for i in range(n):\n",
    "    for j in range(i):\n",
    "        st = ' ' * (n -j)\n",
    "        \n",
    "    print(st + '#')"
   ]
  }
 ],
 "metadata": {
  "kernelspec": {
   "display_name": "Python 3 (ipykernel)",
   "language": "python",
   "name": "python3"
  },
  "language_info": {
   "codemirror_mode": {
    "name": "ipython",
    "version": 3
   },
   "file_extension": ".py",
   "mimetype": "text/x-python",
   "name": "python",
   "nbconvert_exporter": "python",
   "pygments_lexer": "ipython3",
   "version": "3.9.12"
  }
 },
 "nbformat": 4,
 "nbformat_minor": 5
}
