{
 "cells": [
  {
   "cell_type": "code",
   "execution_count": 9,
   "id": "1e2431ad",
   "metadata": {},
   "outputs": [
    {
     "name": "stdout",
     "output_type": "stream",
     "text": [
      "세 정수를 입력하시오 : 99 12 4\n",
      "4 12 99\n"
     ]
    }
   ],
   "source": [
    "a, b, c = map(int, input('세 정수를 입력하시오 : ').split())\n",
    "\n",
    "if (a > b) and (a > c):\n",
    "    if b > c:\n",
    "        print(c, b, a)\n",
    "    else:\n",
    "        print(b, c, a)\n",
    "\n",
    "if (b > a) and (b > c):\n",
    "    if a > c:\n",
    "        print(c, a, b)\n",
    "    else:\n",
    "        print(a, c, b)\n",
    "    \n",
    "if (c > a) and (c > b):\n",
    "    if a > b:\n",
    "        print(b, a, c)\n",
    "    else:\n",
    "        print(a, b, c)\n"
   ]
  },
  {
   "cell_type": "code",
   "execution_count": 10,
   "id": "c7316715",
   "metadata": {},
   "outputs": [
    {
     "name": "stdout",
     "output_type": "stream",
     "text": [
      "점의 좌표 x, y를 입력하시오 : 2 4\n",
      "1사분면에 있음\n"
     ]
    }
   ],
   "source": [
    "x, y = map(int, input('점의 좌표 x, y를 입력하시오 : ').split())\n",
    "\n",
    "if (x > 0) and (y > 0):\n",
    "    print('1사분면에 있음')\n",
    "\n",
    "if (x > 0) and (y < 0):\n",
    "    print('4사분면에 있음')\n",
    "\n",
    "if (x < 0) and (y > 0):\n",
    "    print('2사분면에 있음')\n",
    "\n",
    "if (x < 0) and (y < 0):\n",
    "    print('3사분면에 있음')\n",
    "    "
   ]
  },
  {
   "cell_type": "code",
   "execution_count": 12,
   "id": "b5c5c888",
   "metadata": {},
   "outputs": [
    {
     "name": "stdout",
     "output_type": "stream",
     "text": [
      "게임 점수를 입력하시오 : 4\n",
      "입문자입니다.\n"
     ]
    }
   ],
   "source": [
    "game_score = int(input('게임 점수를 입력하시오 : '))\n",
    "\n",
    "if game_score >= 1000:\n",
    "    print('고수입니다.')\n",
    "else:\n",
    "    print('입문자입니다.')\n"
   ]
  },
  {
   "cell_type": "code",
   "execution_count": 13,
   "id": "aac2bf5e",
   "metadata": {},
   "outputs": [
    {
     "name": "stdout",
     "output_type": "stream",
     "text": [
      "Python \n",
      "is \n",
      "FUN! \n",
      "Python \n",
      "is \n",
      "FUN! \n",
      "Python \n",
      "is \n",
      "FUN! \n",
      "Python \n",
      "is \n",
      "FUN! \n",
      "Python \n",
      "is \n",
      "FUN! \n",
      "Python \n",
      "is \n",
      "FUN! \n"
     ]
    }
   ],
   "source": [
    "for i in range(3):\n",
    "    print('Python ')\n",
    "    print('is ')\n",
    "    print('FUN! ')\n",
    "    \n",
    "for i in range(3):\n",
    "    print('Python ')\n",
    "    print('is ')\n",
    "    print('FUN! ')"
   ]
  },
  {
   "cell_type": "code",
   "execution_count": 17,
   "id": "305bb667",
   "metadata": {},
   "outputs": [
    {
     "name": "stdout",
     "output_type": "stream",
     "text": [
      "숫자를 입력하세요 : 9\n",
      "9 (은)는 소수가 아닙니다.\n"
     ]
    }
   ],
   "source": [
    "n = int(input('숫자를 입력하세요 : '))\n",
    "\n",
    "for i in range(2, n):\n",
    "    if n % i == 0:\n",
    "        print(n, '(은)는 소수가 아닙니다.')\n",
    "        break\n",
    "\n",
    "if n % i != 0:\n",
    "    print(n, '(은)는 소수입니다.')\n",
    "    \n",
    "        \n",
    "        \n"
   ]
  }
 ],
 "metadata": {
  "kernelspec": {
   "display_name": "Python 3 (ipykernel)",
   "language": "python",
   "name": "python3"
  },
  "language_info": {
   "codemirror_mode": {
    "name": "ipython",
    "version": 3
   },
   "file_extension": ".py",
   "mimetype": "text/x-python",
   "name": "python",
   "nbconvert_exporter": "python",
   "pygments_lexer": "ipython3",
   "version": "3.9.12"
  }
 },
 "nbformat": 4,
 "nbformat_minor": 5
}
